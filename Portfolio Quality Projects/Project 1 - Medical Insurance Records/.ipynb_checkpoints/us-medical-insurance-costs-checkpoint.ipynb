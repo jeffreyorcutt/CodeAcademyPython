{
 "cells": [
  {
   "cell_type": "markdown",
   "metadata": {},
   "source": [
    "# U.S. Medical Insurance Costs"
   ]
  },
  {
   "cell_type": "code",
   "execution_count": 80,
   "metadata": {},
   "outputs": [
    {
     "name": "stdout",
     "output_type": "stream",
     "text": [
      "The most expensive male patient is 45 years old, male and has a BMI of 30.36 with 0 child/children from the southeast region and answered \"yes\" to being a smoker. Their insurance cost was: 62592.87309 dollars.\n",
      "The most expensive female patient is 54 years old, female and has a BMI of 47.41 with 0 child/children from the southeast region and answered \"yes\" to being a smoker. Their insurance cost was: 63770.42801 dollars.\n",
      "The least expensive male patient is 18 years old, male and has a BMI of 23.21 with 0 child/children from the southeast region and answered \"no\" to being a smoker. Their insurance cost was: 1121.8739 dollars.\n",
      "The least expensive female patient is 18 years old, female and has a BMI of 20.79 with 0 child/children from the southeast region and answered \"no\" to being a smoker. Their insurance cost was: 1607.5101 dollars.\n"
     ]
    }
   ],
   "source": [
    "import csv\n",
    "\n",
    "#this is an example of an unguided portfolio project where you're given the data\n",
    "#and apply your knowledge to what you've learned so far\n",
    "\n",
    "#my scope for this project was:\n",
    "# (1) to create a function that could subset the data based on an argument,\n",
    "# (2) to create functions to find the highest and lowest insurance cost\n",
    "# (3) to create a function that would print details of a specific patient and be flexible to what it is printing\n",
    "\n",
    "\n",
    "#this function will return a subset of the original data that only includes male (0) or female(1)\n",
    "def get_records_m_f(list, m_f):\n",
    "    for records in list:\n",
    "        #print(records)\n",
    "        if (m_f == 0):\n",
    "            new_list = [i for i in list if \"female\" not in i]\n",
    "        if (m_f == 1):\n",
    "            new_list = [i for i in list if \"male\" != i[1]]\n",
    "        \n",
    "    return new_list\n",
    "\n",
    "def max_insurance(list):\n",
    "    max_ins_pt = []\n",
    "    max_ins = 0.0\n",
    "    for record in list:\n",
    "        if(float(record[6]) > max_ins):\n",
    "            max_ins_pt = record\n",
    "            max_ins = float(record[6])\n",
    "    return max_ins_pt\n",
    "\n",
    "def min_insurance(list):\n",
    "    min_ins_pt = []\n",
    "    min_ins = float('inf')\n",
    "    for record in list:\n",
    "        if(float(record[6]) < min_ins):\n",
    "            min_ins_pt = record\n",
    "            min_ins = float(record[6])\n",
    "    return min_ins_pt\n",
    "\n",
    "\n",
    "def patient_info_print(list, string):\n",
    "    print(\"The \" + string + \" patient is \" +list[0]+\" years old, \"+list[1]+\n",
    "          \" and has a BMI of \" + list[2] +\" with \"+ list[3] + \" child/children \" +\n",
    "         \"from the \"+list[5]+\" region and answered \\\"\" +list[4] + \"\\\" to being a smoker. \"+\n",
    "          \"Their insurance cost was: \"+list[6]+\" dollars.\")\n",
    "    \n",
    "\n",
    "patient_dict = []\n",
    "\n",
    "with open(\".\\insurance.csv\") as insurance_file:\n",
    "    from_file = csv.reader(insurance_file)\n",
    "    header = []\n",
    "    header = next(from_file)\n",
    "    rows = []\n",
    "    for row in from_file:\n",
    "        patient_dict.append(row)\n",
    "    #\n",
    "        continue\n",
    "    #print(rows)\n",
    "    #print(patient_dict)\n",
    "    males_only = []\n",
    "    males_only = get_records_m_f(patient_dict, 0)\n",
    " #   print(males_only)\n",
    "    \n",
    "    females_only = []\n",
    "    females_only = get_records_m_f(patient_dict, 1)\n",
    " #   print(females_only)\n",
    "    \n",
    "    max_male_patient = max_insurance(males_only)\n",
    "    max_female_patient = max_insurance(females_only)\n",
    "    \n",
    "    min_male_patient = min_insurance(males_only)\n",
    "    min_female_patient = min_insurance(females_only)\n",
    "    \n",
    "    patient_info_print(max_male_patient, \"most expensive male\")\n",
    "    patient_info_print(max_female_patient, \"most expensive female\")\n",
    "    \n",
    "    patient_info_print(min_male_patient, \"least expensive male\")\n",
    "    patient_info_print(min_female_patient, \"least expensive female\")"
   ]
  },
  {
   "cell_type": "code",
   "execution_count": null,
   "metadata": {},
   "outputs": [],
   "source": []
  }
 ],
 "metadata": {
  "kernelspec": {
   "display_name": "Python 3 (ipykernel)",
   "language": "python",
   "name": "python3"
  },
  "language_info": {
   "codemirror_mode": {
    "name": "ipython",
    "version": 3
   },
   "file_extension": ".py",
   "mimetype": "text/x-python",
   "name": "python",
   "nbconvert_exporter": "python",
   "pygments_lexer": "ipython3",
   "version": "3.9.7"
  }
 },
 "nbformat": 4,
 "nbformat_minor": 4
}
