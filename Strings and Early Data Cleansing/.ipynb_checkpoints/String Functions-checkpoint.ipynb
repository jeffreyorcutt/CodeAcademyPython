{
 "cells": [
  {
   "cell_type": "code",
   "execution_count": 2,
   "id": "9ad461b4",
   "metadata": {},
   "outputs": [
    {
     "name": "stdout",
     "output_type": "stream",
     "text": [
      "Afterimages:Audre Lorde:1997,  The Shadow:William Carlos Williams:1915, Ecstasy:Gabriela Mistral:1925,   Georgia Dusk:Jean Toomer:1923,   Parting Before Daybreak:An Qi:2014, The Untold Want:Walt Whitman:1871, Mr. Grumpledump's Song:Shel Silverstein:2004, Angel Sound Mexico City:Carmen Boullosa:2013, In Love:Kamala Suraiyya:1965, Dream Variations:Langston Hughes:1994, Dreamwood:Adrienne Rich:1987\n",
      "['Afterimages:Audre Lorde:1997', '  The Shadow:William Carlos Williams:1915', ' Ecstasy:Gabriela Mistral:1925', '   Georgia Dusk:Jean Toomer:1923', '   Parting Before Daybreak:An Qi:2014', ' The Untold Want:Walt Whitman:1871', \" Mr. Grumpledump's Song:Shel Silverstein:2004\", ' Angel Sound Mexico City:Carmen Boullosa:2013', ' In Love:Kamala Suraiyya:1965', ' Dream Variations:Langston Hughes:1994', ' Dreamwood:Adrienne Rich:1987']\n",
      "['Afterimages:Audre Lorde:1997', 'The Shadow:William Carlos Williams:1915', 'Ecstasy:Gabriela Mistral:1925', 'Georgia Dusk:Jean Toomer:1923', 'Parting Before Daybreak:An Qi:2014', 'The Untold Want:Walt Whitman:1871', \"Mr. Grumpledump's Song:Shel Silverstein:2004\", 'Angel Sound Mexico City:Carmen Boullosa:2013', 'In Love:Kamala Suraiyya:1965', 'Dream Variations:Langston Hughes:1994', 'Dreamwood:Adrienne Rich:1987']\n",
      "['Afterimages', 'The Shadow', 'Ecstasy', 'Georgia Dusk', 'Parting Before Daybreak', 'The Untold Want', \"Mr. Grumpledump's Song\", 'Angel Sound Mexico City', 'In Love', 'Dream Variations', 'Dreamwood']\n",
      "The poem Afterimages was published by Audre Lorde in 1997\n",
      "The poem The Shadow was published by William Carlos Williams in 1915\n",
      "The poem Ecstasy was published by Gabriela Mistral in 1925\n",
      "The poem Georgia Dusk was published by Jean Toomer in 1923\n",
      "The poem Parting Before Daybreak was published by An Qi in 2014\n",
      "The poem The Untold Want was published by Walt Whitman in 1871\n",
      "The poem Mr. Grumpledump's Song was published by Shel Silverstein in 2004\n",
      "The poem Angel Sound Mexico City was published by Carmen Boullosa in 2013\n",
      "The poem In Love was published by Kamala Suraiyya in 1965\n",
      "The poem Dream Variations was published by Langston Hughes in 1994\n",
      "The poem Dreamwood was published by Adrienne Rich in 1987\n"
     ]
    }
   ],
   "source": [
    "highlighted_poems = \"Afterimages:Audre Lorde:1997,  The Shadow:William Carlos Williams:1915, Ecstasy:Gabriela Mistral:1925,   Georgia Dusk:Jean Toomer:1923,   Parting Before Daybreak:An Qi:2014, The Untold Want:Walt Whitman:1871, Mr. Grumpledump's Song:Shel Silverstein:2004, Angel Sound Mexico City:Carmen Boullosa:2013, In Love:Kamala Suraiyya:1965, Dream Variations:Langston Hughes:1994, Dreamwood:Adrienne Rich:1987\"\n",
    "\n",
    "print(highlighted_poems)\n",
    "\n",
    "highlighted_poems_list = highlighted_poems.split(\",\")\n",
    "print(highlighted_poems_list)\n",
    "\n",
    "highlighted_poems_stripped = [string.strip() for string in highlighted_poems_list]\n",
    "print(highlighted_poems_stripped)\n",
    "\n",
    "highlighted_poems_details = []\n",
    "highlighted_poems_details = [string.split(\":\") for string in highlighted_poems_stripped]\n",
    "\n",
    "titles = []\n",
    "poets = []\n",
    "dates = []\n",
    "i=0\n",
    "while i < len(highlighted_poems_details):\n",
    "  titles.append(highlighted_poems_details[i][0])\n",
    "  poets.append(highlighted_poems_details[i][1])\n",
    "  dates.append(highlighted_poems_details[i][2])\n",
    "  i+=1\n",
    "print(titles)\n",
    "\n",
    "\n",
    "i = 0\n",
    "for i in range(len(titles)):\n",
    "  print(\"The poem {title} was published by {poet} in {date}\".format(title = titles[i], poet = poets[i], date = dates[i])) "
   ]
  },
  {
   "cell_type": "code",
   "execution_count": 3,
   "id": "840e6958",
   "metadata": {},
   "outputs": [
    {
     "name": "stdout",
     "output_type": "stream",
     "text": [
      "4\n",
      "4\n"
     ]
    }
   ],
   "source": [
    "def unique_english_letters(word):\n",
    "  count = len(set(word))\n",
    "  return count\n",
    "  \n",
    "# Uncomment these function calls to test your function:\n",
    "print(unique_english_letters(\"mississippi\"))\n",
    "# should print 4\n",
    "print(unique_english_letters(\"Apple\"))"
   ]
  },
  {
   "cell_type": "code",
   "execution_count": 4,
   "id": "659cb4b8",
   "metadata": {},
   "outputs": [
    {
     "name": "stdout",
     "output_type": "stream",
     "text": [
      "4\n",
      "1\n",
      "0\n"
     ]
    }
   ],
   "source": [
    "# Write your count_char_x function here:\n",
    "def count_char_x(word, x):\n",
    "  count = 0\n",
    "  first = word.find(x)\n",
    "  for i in range(first, len(word)):\n",
    "    if x == word[i]:\n",
    "      count += 1\n",
    "      continue\n",
    "  return count\n",
    "\n",
    "# Uncomment these function calls to test your tip function:\n",
    "print(count_char_x(\"mississippi\", \"s\"))\n",
    "# should print 4\n",
    "print(count_char_x(\"mississippi\", \"m\"))\n",
    "# should print 1\n",
    "print(count_char_x(\"mississippi\", \"z\"))\n",
    "# should print 0"
   ]
  },
  {
   "cell_type": "code",
   "execution_count": 5,
   "id": "46da223a",
   "metadata": {},
   "outputs": [
    {
     "name": "stdout",
     "output_type": "stream",
     "text": [
      "['m', '', 'ippi']\n",
      "2\n",
      "['a', 'le']\n",
      "1\n"
     ]
    }
   ],
   "source": [
    "# Write your count_multi_char_x function here:\n",
    "def count_multi_char_x(word, x):\n",
    "  count = 0\n",
    "  split_word = word.split(x)\n",
    "  print(split_word)\n",
    "  return len(split_word)-1\n",
    "# Uncomment these function calls to test your function:\n",
    "print(count_multi_char_x(\"mississippi\", \"iss\"))\n",
    "# should print 2\n",
    "print(count_multi_char_x(\"apple\", \"pp\"))\n",
    "# should print 1"
   ]
  },
  {
   "cell_type": "code",
   "execution_count": 6,
   "id": "fa6e9313",
   "metadata": {},
   "outputs": [
    {
     "name": "stdout",
     "output_type": "stream",
     "text": [
      "pl\n",
      "apple\n"
     ]
    }
   ],
   "source": [
    "# Write your substring_between_letters function here:\n",
    "def substring_between_letters(word, start, end):\n",
    "  if(word.find(start) > 0 and word.find(end) > 0 ):\n",
    "    return word[word.find(start)+1:word.find(end)]\n",
    "  else:\n",
    "    return word\n",
    "# Uncomment these function calls to test your function:\n",
    "print(substring_between_letters(\"apple\", \"p\", \"e\"))\n",
    "# should print \"pl\"\n",
    "print(substring_between_letters(\"apple\", \"p\", \"c\"))\n",
    "# should print \"apple\""
   ]
  },
  {
   "cell_type": "code",
   "execution_count": 7,
   "id": "00021836",
   "metadata": {},
   "outputs": [
    {
     "name": "stdout",
     "output_type": "stream",
     "text": [
      "False\n",
      "True\n"
     ]
    }
   ],
   "source": [
    "# Write your x_length_words function here:\n",
    "def x_length_words(sentence, x):\n",
    "  words = sentence.split()\n",
    "  for word in words:\n",
    "    if len(word) >= x:\n",
    "      set_true = True\n",
    "    else:\n",
    "      return False\n",
    "  return True\n",
    "# Uncomment these function calls to test your tip function:\n",
    "print(x_length_words(\"i like apples\", 2))\n",
    "# should print False\n",
    "print(x_length_words(\"he likes apples\", 2))\n",
    "# should print True"
   ]
  },
  {
   "cell_type": "code",
   "execution_count": 8,
   "id": "a705fd45",
   "metadata": {},
   "outputs": [
    {
     "name": "stdout",
     "output_type": "stream",
     "text": [
      "True\n",
      "True\n",
      "False\n"
     ]
    }
   ],
   "source": [
    "# Write your check_for_name function here:\n",
    "def check_for_name(sentence, name):\n",
    "\n",
    "  if(name.lower() in sentence.lower()):\n",
    "    return True\n",
    "  else:\n",
    "    return False\n",
    "# Uncomment these function calls to test your  function:\n",
    "print(check_for_name(\"My name is Jamie\", \"Jamie\"))\n",
    "# should print True\n",
    "print(check_for_name(\"My name is jamie\", \"Jamie\"))\n",
    "# should print True\n",
    "print(check_for_name(\"My name is Samantha\", \"Jamie\"))\n",
    "# should print False"
   ]
  },
  {
   "cell_type": "code",
   "execution_count": 9,
   "id": "a9fab9b7",
   "metadata": {},
   "outputs": [
    {
     "name": "stdout",
     "output_type": "stream",
     "text": [
      "Cdcdm\n",
      "Hlowrd\n",
      "\n"
     ]
    }
   ],
   "source": [
    "# Write your every_other_letter function here:\n",
    "def every_other_letter(word):\n",
    "  i=0\n",
    "  new_string = \"\"\n",
    "  while i < len(word):\n",
    "    new_string += word[i]\n",
    "    i+=2\n",
    "  return str(new_string)\n",
    "  \n",
    "# Uncomment these function calls to test your function:\n",
    "print(every_other_letter(\"Codecademy\"))\n",
    "# should print Cdcdm\n",
    "print(every_other_letter(\"Hello world!\"))\n",
    "# should print Hlowrd\n",
    "print(every_other_letter(\"\"))\n",
    "# should print "
   ]
  },
  {
   "cell_type": "code",
   "execution_count": 10,
   "id": "de9acb24",
   "metadata": {},
   "outputs": [
    {
     "name": "stdout",
     "output_type": "stream",
     "text": [
      "ymedacedoC\n",
      "!dlrow olleH\n",
      "\n"
     ]
    }
   ],
   "source": [
    "# Write your reverse_string function here:\n",
    "def reverse_string(word):\n",
    "  return word[::-1]  #slicing the string is the easiest\n",
    "# Uncomment these function calls to test your  function:\n",
    "print(reverse_string(\"Codecademy\"))\n",
    "# should print ymedacedoC\n",
    "print(reverse_string(\"Hello world!\"))\n",
    "# should print !dlrow olleH\n",
    "print(reverse_string(\"\"))\n",
    "# should print"
   ]
  },
  {
   "cell_type": "code",
   "execution_count": 11,
   "id": "6f212fef",
   "metadata": {},
   "outputs": [
    {
     "name": "stdout",
     "output_type": "stream",
     "text": [
      "Lodecademy Cearn\n",
      "wello Horld!\n",
      "b a\n"
     ]
    }
   ],
   "source": [
    "# Write your make_spoonerism function here:\n",
    "def make_spoonerism(word1, word2):\n",
    "  newword1 = ''\n",
    "  newword2 = ''\n",
    "  newword1=word2[0] + word1[1:]\n",
    "  newword2=word1[0] + word2[1:]\n",
    "\n",
    "  return newword1 +\" \"+ newword2\n",
    "\n",
    "# Uncomment these function calls to test your function:\n",
    "print(make_spoonerism(\"Codecademy\", \"Learn\"))\n",
    "# should print Lodecademy Cearn\n",
    "print(make_spoonerism(\"Hello\", \"world!\"))\n",
    "# should print wello Horld!\n",
    "print(make_spoonerism(\"a\", \"b\"))\n",
    "# should print b a"
   ]
  },
  {
   "cell_type": "code",
   "execution_count": 12,
   "id": "47066eaf",
   "metadata": {},
   "outputs": [
    {
     "name": "stdout",
     "output_type": "stream",
     "text": [
      "Codecademy!!!!!!!!!!\n",
      "Codecademy is the best place to learn\n"
     ]
    }
   ],
   "source": [
    "# Write your add_exclamation function here:\n",
    "def add_exclamation(word):\n",
    "  length_needed = 20 - len(word)\n",
    "  add = \"\"\n",
    "  while length_needed >0:\n",
    "    add += \"!\"\n",
    "    length_needed -= 1\n",
    "  return word + add\n",
    "\n",
    "# Uncomment these function calls to test your function:\n",
    "print(add_exclamation(\"Codecademy\"))\n",
    "# should print Codecademy!!!!!!!!!!\n",
    "print(add_exclamation(\"Codecademy is the best place to learn\"))\n",
    "# should print Codecademy is the best place to learn"
   ]
  }
 ],
 "metadata": {
  "kernelspec": {
   "display_name": "Python 3 (ipykernel)",
   "language": "python",
   "name": "python3"
  },
  "language_info": {
   "codemirror_mode": {
    "name": "ipython",
    "version": 3
   },
   "file_extension": ".py",
   "mimetype": "text/x-python",
   "name": "python",
   "nbconvert_exporter": "python",
   "pygments_lexer": "ipython3",
   "version": "3.9.7"
  }
 },
 "nbformat": 4,
 "nbformat_minor": 5
}
