{
 "cells": [
  {
   "cell_type": "code",
   "execution_count": null,
   "id": "16e8f11d",
   "metadata": {},
   "outputs": [],
   "source": [
    "# this scenario involves reading a csv, extracting values from that csv, \n",
    "# writing them to a text file, and then creating a JSON file to send as a message\n",
    "\n"
   ]
  }
 ],
 "metadata": {
  "kernelspec": {
   "display_name": "Python 3 (ipykernel)",
   "language": "python",
   "name": "python3"
  },
  "language_info": {
   "codemirror_mode": {
    "name": "ipython",
    "version": 3
   },
   "file_extension": ".py",
   "mimetype": "text/x-python",
   "name": "python",
   "nbconvert_exporter": "python",
   "pygments_lexer": "ipython3",
   "version": "3.9.7"
  }
 },
 "nbformat": 4,
 "nbformat_minor": 5
}
