{
 "cells": [
  {
   "cell_type": "code",
   "execution_count": 1,
   "id": "0fdb0016",
   "metadata": {},
   "outputs": [
    {
     "name": "stdout",
     "output_type": "stream",
     "text": [
      "{'Marina': 6607.0, 'Vinay': 3225.0, 'Connie': 8886.0, 'Isaac': 16444.0, 'Valentina': 6420.0}\n"
     ]
    }
   ],
   "source": [
    "# Demonstrating dictionaries\n",
    "\n",
    "# Add items to dictionary\n",
    "medical_costs = {}\n",
    "medical_costs[\"Marina\"] = 6607.0\n",
    "medical_costs[\"Vinay\"] = 3225.0\n",
    "\n",
    "medical_costs.update({\"Connie\":8886.0, \"Isaac\":16444.0, \"Valentina\":6420.0})\n",
    "\n",
    "print(medical_costs)"
   ]
  },
  {
   "cell_type": "code",
   "execution_count": 2,
   "id": "096b7cd2",
   "metadata": {},
   "outputs": [
    {
     "name": "stdout",
     "output_type": "stream",
     "text": [
      "Average Insurance Cost: 8316.4\n"
     ]
    }
   ],
   "source": [
    "#compute an average cost by iterating over the values in a dictionary\n",
    "total_cost = 0\n",
    "for cost in medical_costs.values():\n",
    "  total_cost += cost\n",
    "average_cost = total_cost / len(medical_costs)\n",
    "print(\"Average Insurance Cost: {average_cost}\".format(average_cost=average_cost))"
   ]
  },
  {
   "cell_type": "code",
   "execution_count": 3,
   "id": "dfd4dfbf",
   "metadata": {},
   "outputs": [
    {
     "name": "stdout",
     "output_type": "stream",
     "text": [
      "{'Marina': 27, 'Vinay': 24, 'Connie': 43, 'Isaac': 35, 'Valentina': 52}\n",
      "Marina's age is 27\n"
     ]
    }
   ],
   "source": [
    "#create a dictionary from lists\n",
    "#tranlate lists into key,value pairs for the dictionary and then use .get()\n",
    "names = [\"Marina\", \"Vinay\", \"Connie\", \"Isaac\", \"Valentina\"]\n",
    "ages = [27, 24, 43, 35,52]\n",
    "\n",
    "zipped_ages = zip(names, ages)\n",
    "names_to_ages = {key: value for key, value in zipped_ages}\n",
    "print(names_to_ages)\n",
    "marina_age = names_to_ages.get(\"Marina\", \"None\")\n",
    "print(\"Marina's age is {marina_age}\".format(marina_age = marina_age))"
   ]
  },
  {
   "cell_type": "code",
   "execution_count": 5,
   "id": "48a04c6c",
   "metadata": {},
   "outputs": [
    {
     "name": "stdout",
     "output_type": "stream",
     "text": [
      "{'Marina': {'Age': 27, 'Sex': 'Female', 'BMI': 31.1, 'Children': 2, 'Smoker': 'Non-Smoker', 'Insurance_cost': 6607.0}, 'Vinay': {'Age': 24, 'Sex': 'Male', 'BMI': 26.9, 'Children': 0, 'Smoker': 'Non-smoker', 'Insurance_cost': 3225.0}, 'Connie': {'Age': 43, 'Sex': 'Female', 'BMI': 25.3, 'Children': 3, 'Smoker': 'Non-smoker', 'Insurance_cost': 8886.0}, 'Isaac': {'Age': 35, 'Sex': 'Male', 'BMI': 20.6, 'Children': 4, 'Smoker': 'Smoker', 'Insurance_cost': 16444.0}, 'Valentina': {'Age': 52, 'Sex': 'Female', 'BMI': 18.7, 'Children': 1, 'Smoker': 'Non-smoker', 'Insurance_cost': 6420.0}}\n",
      "Connie's insurance cost is 8886.0 dollars.\n",
      "Marina is a 27 year old Female Non-Smoker with a BMI of 31.1 and insurance cost of 6607.0\n",
      "Connie is a 43 year old Female Non-smoker with a BMI of 25.3 and insurance cost of 8886.0\n",
      "Isaac is a 35 year old Male Smoker with a BMI of 20.6 and insurance cost of 16444.0\n",
      "Valentina is a 52 year old Female Non-smoker with a BMI of 18.7 and insurance cost of 6420.0\n"
     ]
    }
   ],
   "source": [
    "#Another dictionary example\n",
    "medical_records = {}\n",
    "medical_records[\"Marina\"] = {\"Age\": 27, \"Sex\":\"Female\", \"BMI\":31.1, \"Children\":2, \"Smoker\":\"Non-Smoker\", \"Insurance_cost\":6607.0}\n",
    "medical_records[\"Vinay\"] = {\"Age\": 24, \"Sex\": \"Male\", \"BMI\": 26.9, \"Children\": 0, \"Smoker\": \"Non-smoker\", \"Insurance_cost\": 3225.0}\n",
    "medical_records[\"Connie\"] = {\"Age\": 43, \"Sex\": \"Female\", \"BMI\": 25.3, \"Children\": 3, \"Smoker\": \"Non-smoker\", \"Insurance_cost\": 8886.0}\n",
    "medical_records[\"Isaac\"] = {\"Age\": 35, \"Sex\": \"Male\", \"BMI\": 20.6, \"Children\": 4, \"Smoker\": \"Smoker\", \"Insurance_cost\": 16444.0}\n",
    "medical_records[\"Valentina\"] = {\"Age\": 52, \"Sex\": \"Female\", \"BMI\": 18.7, \"Children\": 1, \"Smoker\": \"Non-smoker\", \"Insurance_cost\": 6420.0}\n",
    "print(medical_records)\n",
    "\n",
    "#demonstrate pulling data from dictionary value list\n",
    "print(\"Connie's insurance cost is \" + str( medical_records[\"Connie\"][\"Insurance_cost\"]) +\" dollars.\")\n",
    "\n",
    "#remove Vinay\n",
    "medical_records.pop(\"Vinay\")\n",
    "\n",
    "#demonstrate iterating over a dictionary with a list of items in the values and manipulating that data. \n",
    "for key, value_list in medical_records.items():\n",
    "  print(\"{Name} is a {Age} year old {Sex} {Smoker} with a BMI of {BMI} and insurance cost of {insurance_cost}\".format(Name = key, Age = str(value_list[\"Age\"]), Sex = value_list[\"Sex\"], Smoker = value_list[\"Smoker\"], BMI = str(value_list[\"BMI\"]),insurance_cost = str(value_list[\"Insurance_cost\"])))"
   ]
  }
 ],
 "metadata": {
  "kernelspec": {
   "display_name": "Python 3 (ipykernel)",
   "language": "python",
   "name": "python3"
  },
  "language_info": {
   "codemirror_mode": {
    "name": "ipython",
    "version": 3
   },
   "file_extension": ".py",
   "mimetype": "text/x-python",
   "name": "python",
   "nbconvert_exporter": "python",
   "pygments_lexer": "ipython3",
   "version": "3.9.7"
  }
 },
 "nbformat": 4,
 "nbformat_minor": 5
}
