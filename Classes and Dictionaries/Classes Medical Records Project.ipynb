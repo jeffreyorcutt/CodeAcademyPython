{
 "cells": [
  {
   "cell_type": "code",
   "execution_count": 1,
   "id": "ef483363",
   "metadata": {},
   "outputs": [],
   "source": [
    "class Patient:\n",
    "  def __init__(self, name, age, sex, bmi, num_of_children, smoker):\n",
    "    self.name = name\n",
    "    self.age = age\n",
    "    # add more parameters here\n",
    "    self.sex = sex\n",
    "    self.bmi = bmi\n",
    "    self.num_of_children = num_of_children\n",
    "    self.smoker = smoker\n",
    "\n",
    "#this method calculates an estimated insurance cost each time it's called\n",
    "  def estimated_cost(self):\n",
    "    estimated_cost = 250*self.age - 128*self.sex + 370*self.bmi + 425*self.num_of_children + 24000*self.smoker - 12500\n",
    "    print(self.name+ \"'s estimated insurance cost is \"+ str(estimated_cost)+\" dollars.\")\n",
    "\n",
    "#this method allows a user to update the age of the patient and then also calls the estimated_cost method to show the result\n",
    "  def update_age(self, newage):\n",
    "    self.age = newage\n",
    "    print(self.name + \" is now \" + str(self.age)+\" years old.\")\n",
    "    self.estimated_cost()\n",
    "\n",
    "  def update_num_children(self, new_num_children):\n",
    "    self.num_of_children = new_num_children\n",
    "    if self.num_of_children > 1 or self.num_of_children == 0:\n",
    "      print(self.name+ \" now has \" +str(self.num_of_children) + \" children.\")\n",
    "    else:\n",
    "      print(self.name+ \" now has \" +str(self.num_of_children) + \" child.\")\n",
    "    self.estimated_cost()\n",
    "\n",
    "  #this creates a way to output the values in the object to a dictionary   \n",
    "  def patient_profile(self):\n",
    "    patient_information = {\"Name\":self.name,\n",
    "                          \"Age\":self.age,\n",
    "                          \"Sex\":self.sex,\n",
    "                          \"BMI\":self.bmi,\n",
    "                          \"Number of Children\": self.num_of_children,\n",
    "                          \"Smoker\":self.smoker }\n",
    "    return patient_information\n"
   ]
  },
  {
   "cell_type": "code",
   "execution_count": 2,
   "id": "de8ad107",
   "metadata": {},
   "outputs": [],
   "source": [
    "patient1 = Patient(\"John Doe\", 25, 1, 22.2, 0, 0)"
   ]
  },
  {
   "cell_type": "code",
   "execution_count": 3,
   "id": "27034547",
   "metadata": {},
   "outputs": [
    {
     "name": "stdout",
     "output_type": "stream",
     "text": [
      "John Doe's estimated insurance cost is 1836.0 dollars.\n"
     ]
    }
   ],
   "source": [
    "#try the estimated_cost \n",
    "patient1.estimated_cost()"
   ]
  },
  {
   "cell_type": "code",
   "execution_count": 4,
   "id": "4971b7c6",
   "metadata": {},
   "outputs": [
    {
     "name": "stdout",
     "output_type": "stream",
     "text": [
      "John Doe is now 17 years old.\n",
      "John Doe's estimated insurance cost is -164.0 dollars.\n"
     ]
    }
   ],
   "source": [
    "#update the patient's age\n",
    "patient1.update_age(17)"
   ]
  },
  {
   "cell_type": "code",
   "execution_count": 5,
   "id": "fba8b40c",
   "metadata": {},
   "outputs": [
    {
     "name": "stdout",
     "output_type": "stream",
     "text": [
      "John Doe now has 1 child.\n",
      "John Doe's estimated insurance cost is 261.0 dollars.\n"
     ]
    }
   ],
   "source": [
    "#update the patient's number of children\n",
    "patient1.update_num_children(1)"
   ]
  },
  {
   "cell_type": "code",
   "execution_count": 6,
   "id": "98a1528e",
   "metadata": {},
   "outputs": [
    {
     "name": "stdout",
     "output_type": "stream",
     "text": [
      "John Doe\n"
     ]
    }
   ],
   "source": [
    "#test out that the patient profile is being returned as a usable dictionary\n",
    "patient_1_dict = patient1.patient_profile()\n",
    "print(patient_1_dict[\"Name\"])\n",
    "\n"
   ]
  }
 ],
 "metadata": {
  "kernelspec": {
   "display_name": "Python 3 (ipykernel)",
   "language": "python",
   "name": "python3"
  },
  "language_info": {
   "codemirror_mode": {
    "name": "ipython",
    "version": 3
   },
   "file_extension": ".py",
   "mimetype": "text/x-python",
   "name": "python",
   "nbconvert_exporter": "python",
   "pygments_lexer": "ipython3",
   "version": "3.9.7"
  }
 },
 "nbformat": 4,
 "nbformat_minor": 5
}
